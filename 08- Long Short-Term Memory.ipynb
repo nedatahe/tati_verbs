{
 "cells": [
  {
   "cell_type": "code",
   "execution_count": 87,
   "metadata": {},
   "outputs": [],
   "source": [
    "import pandas as pd\n",
    "from sklearn.model_selection import train_test_split\n",
    "from sklearn.linear_model import LogisticRegression\n",
    "from sklearn.model_selection import train_test_split\n",
    "from sklearn.naive_bayes import MultinomialNB\n",
    "from sklearn.preprocessing import LabelEncoder\n",
    "import numpy as np\n",
    "from sklearn.metrics import accuracy_score, confusion_matrix, classification_report\n",
    "import re\n",
    "from sklearn.feature_extraction.text import CountVectorizer"
   ]
  },
  {
   "cell_type": "code",
   "execution_count": 88,
   "metadata": {},
   "outputs": [
    {
     "data": {
      "text/html": [
       "<div>\n",
       "<style scoped>\n",
       "    .dataframe tbody tr th:only-of-type {\n",
       "        vertical-align: middle;\n",
       "    }\n",
       "\n",
       "    .dataframe tbody tr th {\n",
       "        vertical-align: top;\n",
       "    }\n",
       "\n",
       "    .dataframe thead th {\n",
       "        text-align: right;\n",
       "    }\n",
       "</style>\n",
       "<table border=\"1\" class=\"dataframe\">\n",
       "  <thead>\n",
       "    <tr style=\"text-align: right;\">\n",
       "      <th></th>\n",
       "      <th>Unnamed: 0</th>\n",
       "      <th>Tense</th>\n",
       "      <th>Modality</th>\n",
       "      <th>Aspect</th>\n",
       "      <th>Causation</th>\n",
       "      <th>Polarity</th>\n",
       "      <th>Person</th>\n",
       "      <th>Voice</th>\n",
       "      <th>Transitivity</th>\n",
       "      <th>Generated Verb-UR</th>\n",
       "      <th>Generated Verb-SR</th>\n",
       "      <th>Stressed Portion</th>\n",
       "      <th>Stress Number</th>\n",
       "      <th>First Character</th>\n",
       "      <th>Last Character</th>\n",
       "      <th>Last Character Number</th>\n",
       "      <th>Vowels Quantity</th>\n",
       "    </tr>\n",
       "  </thead>\n",
       "  <tbody>\n",
       "    <tr>\n",
       "      <th>0</th>\n",
       "      <td>0</td>\n",
       "      <td>present</td>\n",
       "      <td>indicative</td>\n",
       "      <td>imperfective</td>\n",
       "      <td>non-causative</td>\n",
       "      <td>negative</td>\n",
       "      <td>1s</td>\n",
       "      <td>passive</td>\n",
       "      <td>intrans</td>\n",
       "      <td>a-me-*ne*-ger-i-em(ɛ)</td>\n",
       "      <td>amneˈgerijemɛ</td>\n",
       "      <td>e</td>\n",
       "      <td>0.307692</td>\n",
       "      <td>0</td>\n",
       "      <td>ɛ</td>\n",
       "      <td>15</td>\n",
       "      <td>6</td>\n",
       "    </tr>\n",
       "    <tr>\n",
       "      <th>1</th>\n",
       "      <td>1</td>\n",
       "      <td>present</td>\n",
       "      <td>indicative</td>\n",
       "      <td>imperfective</td>\n",
       "      <td>non-causative</td>\n",
       "      <td>negative</td>\n",
       "      <td>2s</td>\n",
       "      <td>passive</td>\n",
       "      <td>intrans</td>\n",
       "      <td>a-me-*ne*-ger-i-i</td>\n",
       "      <td>amneˈgerii</td>\n",
       "      <td>e</td>\n",
       "      <td>0.400000</td>\n",
       "      <td>0</td>\n",
       "      <td>i</td>\n",
       "      <td>5</td>\n",
       "      <td>5</td>\n",
       "    </tr>\n",
       "    <tr>\n",
       "      <th>2</th>\n",
       "      <td>2</td>\n",
       "      <td>present</td>\n",
       "      <td>indicative</td>\n",
       "      <td>imperfective</td>\n",
       "      <td>non-causative</td>\n",
       "      <td>negative</td>\n",
       "      <td>3sm</td>\n",
       "      <td>passive</td>\n",
       "      <td>intrans</td>\n",
       "      <td>a-me-*ne*-ger-i-e</td>\n",
       "      <td>amneˈgerije</td>\n",
       "      <td>e</td>\n",
       "      <td>0.363636</td>\n",
       "      <td>0</td>\n",
       "      <td>e</td>\n",
       "      <td>3</td>\n",
       "      <td>5</td>\n",
       "    </tr>\n",
       "    <tr>\n",
       "      <th>3</th>\n",
       "      <td>3</td>\n",
       "      <td>present</td>\n",
       "      <td>indicative</td>\n",
       "      <td>imperfective</td>\n",
       "      <td>non-causative</td>\n",
       "      <td>negative</td>\n",
       "      <td>3sf</td>\n",
       "      <td>passive</td>\n",
       "      <td>intrans</td>\n",
       "      <td>a-me-*ne*-ger-i-iɛ</td>\n",
       "      <td>amneˈgeriijɛ</td>\n",
       "      <td>e</td>\n",
       "      <td>0.333333</td>\n",
       "      <td>0</td>\n",
       "      <td>ɛ</td>\n",
       "      <td>15</td>\n",
       "      <td>6</td>\n",
       "    </tr>\n",
       "    <tr>\n",
       "      <th>4</th>\n",
       "      <td>4</td>\n",
       "      <td>present</td>\n",
       "      <td>indicative</td>\n",
       "      <td>imperfective</td>\n",
       "      <td>non-causative</td>\n",
       "      <td>negative</td>\n",
       "      <td>1p</td>\n",
       "      <td>passive</td>\n",
       "      <td>intrans</td>\n",
       "      <td>a-me-*ne*-ger-i-om(ɛ)</td>\n",
       "      <td>amneˈgerijomɛ</td>\n",
       "      <td>e</td>\n",
       "      <td>0.307692</td>\n",
       "      <td>0</td>\n",
       "      <td>ɛ</td>\n",
       "      <td>15</td>\n",
       "      <td>6</td>\n",
       "    </tr>\n",
       "    <tr>\n",
       "      <th>...</th>\n",
       "      <td>...</td>\n",
       "      <td>...</td>\n",
       "      <td>...</td>\n",
       "      <td>...</td>\n",
       "      <td>...</td>\n",
       "      <td>...</td>\n",
       "      <td>...</td>\n",
       "      <td>...</td>\n",
       "      <td>...</td>\n",
       "      <td>...</td>\n",
       "      <td>...</td>\n",
       "      <td>...</td>\n",
       "      <td>...</td>\n",
       "      <td>...</td>\n",
       "      <td>...</td>\n",
       "      <td>...</td>\n",
       "      <td>...</td>\n",
       "    </tr>\n",
       "    <tr>\n",
       "      <th>44107</th>\n",
       "      <td>44107</td>\n",
       "      <td>past</td>\n",
       "      <td>subjunctive</td>\n",
       "      <td>pluperfect</td>\n",
       "      <td>non-causative</td>\n",
       "      <td>affirmative</td>\n",
       "      <td>3sm</td>\n",
       "      <td>active</td>\n",
       "      <td>trans</td>\n",
       "      <td>ʌ-χʌst-*abiʃ(ɛ)*</td>\n",
       "      <td>ʌχʌstɛˈbiʃɛ</td>\n",
       "      <td>ɛ</td>\n",
       "      <td>0.545455</td>\n",
       "      <td>0</td>\n",
       "      <td>ɛ</td>\n",
       "      <td>15</td>\n",
       "      <td>5</td>\n",
       "    </tr>\n",
       "    <tr>\n",
       "      <th>44108</th>\n",
       "      <td>44108</td>\n",
       "      <td>past</td>\n",
       "      <td>subjunctive</td>\n",
       "      <td>pluperfect</td>\n",
       "      <td>non-causative</td>\n",
       "      <td>affirmative</td>\n",
       "      <td>3sf</td>\n",
       "      <td>active</td>\n",
       "      <td>trans</td>\n",
       "      <td>ʌ-χʌst-*abiʃ(ɛ)*</td>\n",
       "      <td>ʌχʌstɛˈbiʃɛ</td>\n",
       "      <td>ɛ</td>\n",
       "      <td>0.545455</td>\n",
       "      <td>0</td>\n",
       "      <td>ɛ</td>\n",
       "      <td>15</td>\n",
       "      <td>5</td>\n",
       "    </tr>\n",
       "    <tr>\n",
       "      <th>44109</th>\n",
       "      <td>44109</td>\n",
       "      <td>past</td>\n",
       "      <td>subjunctive</td>\n",
       "      <td>pluperfect</td>\n",
       "      <td>non-causative</td>\n",
       "      <td>affirmative</td>\n",
       "      <td>1p</td>\n",
       "      <td>active</td>\n",
       "      <td>trans</td>\n",
       "      <td>ʌ-χʌst-*abimon*</td>\n",
       "      <td>ʌχʌstɛˈbimon</td>\n",
       "      <td>ɛ</td>\n",
       "      <td>0.500000</td>\n",
       "      <td>0</td>\n",
       "      <td>n</td>\n",
       "      <td>8</td>\n",
       "      <td>5</td>\n",
       "    </tr>\n",
       "    <tr>\n",
       "      <th>44110</th>\n",
       "      <td>44110</td>\n",
       "      <td>past</td>\n",
       "      <td>subjunctive</td>\n",
       "      <td>pluperfect</td>\n",
       "      <td>non-causative</td>\n",
       "      <td>affirmative</td>\n",
       "      <td>2p</td>\n",
       "      <td>active</td>\n",
       "      <td>trans</td>\n",
       "      <td>ʌ-χʌst-*abion*</td>\n",
       "      <td>ʌχʌstɛˈbijon</td>\n",
       "      <td>ɛ</td>\n",
       "      <td>0.500000</td>\n",
       "      <td>0</td>\n",
       "      <td>n</td>\n",
       "      <td>8</td>\n",
       "      <td>5</td>\n",
       "    </tr>\n",
       "    <tr>\n",
       "      <th>44111</th>\n",
       "      <td>44111</td>\n",
       "      <td>past</td>\n",
       "      <td>subjunctive</td>\n",
       "      <td>pluperfect</td>\n",
       "      <td>non-causative</td>\n",
       "      <td>affirmative</td>\n",
       "      <td>3p</td>\n",
       "      <td>active</td>\n",
       "      <td>trans</td>\n",
       "      <td>ʌ-χʌst-*abiʃon*</td>\n",
       "      <td>ʌχʌstɛˈbiʃon</td>\n",
       "      <td>ɛ</td>\n",
       "      <td>0.500000</td>\n",
       "      <td>0</td>\n",
       "      <td>n</td>\n",
       "      <td>8</td>\n",
       "      <td>5</td>\n",
       "    </tr>\n",
       "  </tbody>\n",
       "</table>\n",
       "<p>44112 rows × 17 columns</p>\n",
       "</div>"
      ],
      "text/plain": [
       "       Unnamed: 0    Tense     Modality        Aspect      Causation  \\\n",
       "0               0  present   indicative  imperfective  non-causative   \n",
       "1               1  present   indicative  imperfective  non-causative   \n",
       "2               2  present   indicative  imperfective  non-causative   \n",
       "3               3  present   indicative  imperfective  non-causative   \n",
       "4               4  present   indicative  imperfective  non-causative   \n",
       "...           ...      ...          ...           ...            ...   \n",
       "44107       44107     past  subjunctive    pluperfect  non-causative   \n",
       "44108       44108     past  subjunctive    pluperfect  non-causative   \n",
       "44109       44109     past  subjunctive    pluperfect  non-causative   \n",
       "44110       44110     past  subjunctive    pluperfect  non-causative   \n",
       "44111       44111     past  subjunctive    pluperfect  non-causative   \n",
       "\n",
       "          Polarity Person    Voice Transitivity      Generated Verb-UR  \\\n",
       "0         negative     1s  passive      intrans  a-me-*ne*-ger-i-em(ɛ)   \n",
       "1         negative     2s  passive      intrans      a-me-*ne*-ger-i-i   \n",
       "2         negative    3sm  passive      intrans      a-me-*ne*-ger-i-e   \n",
       "3         negative    3sf  passive      intrans     a-me-*ne*-ger-i-iɛ   \n",
       "4         negative     1p  passive      intrans  a-me-*ne*-ger-i-om(ɛ)   \n",
       "...            ...    ...      ...          ...                    ...   \n",
       "44107  affirmative    3sm   active        trans       ʌ-χʌst-*abiʃ(ɛ)*   \n",
       "44108  affirmative    3sf   active        trans       ʌ-χʌst-*abiʃ(ɛ)*   \n",
       "44109  affirmative     1p   active        trans        ʌ-χʌst-*abimon*   \n",
       "44110  affirmative     2p   active        trans         ʌ-χʌst-*abion*   \n",
       "44111  affirmative     3p   active        trans        ʌ-χʌst-*abiʃon*   \n",
       "\n",
       "      Generated Verb-SR Stressed Portion  Stress Number  First Character  \\\n",
       "0         amneˈgerijemɛ                e       0.307692                0   \n",
       "1            amneˈgerii                e       0.400000                0   \n",
       "2           amneˈgerije                e       0.363636                0   \n",
       "3          amneˈgeriijɛ                e       0.333333                0   \n",
       "4         amneˈgerijomɛ                e       0.307692                0   \n",
       "...                 ...              ...            ...              ...   \n",
       "44107       ʌχʌstɛˈbiʃɛ                ɛ       0.545455                0   \n",
       "44108       ʌχʌstɛˈbiʃɛ                ɛ       0.545455                0   \n",
       "44109      ʌχʌstɛˈbimon                ɛ       0.500000                0   \n",
       "44110      ʌχʌstɛˈbijon                ɛ       0.500000                0   \n",
       "44111      ʌχʌstɛˈbiʃon                ɛ       0.500000                0   \n",
       "\n",
       "      Last Character  Last Character Number  Vowels Quantity  \n",
       "0                  ɛ                     15                6  \n",
       "1                  i                      5                5  \n",
       "2                  e                      3                5  \n",
       "3                  ɛ                     15                6  \n",
       "4                  ɛ                     15                6  \n",
       "...              ...                    ...              ...  \n",
       "44107              ɛ                     15                5  \n",
       "44108              ɛ                     15                5  \n",
       "44109              n                      8                5  \n",
       "44110              n                      8                5  \n",
       "44111              n                      8                5  \n",
       "\n",
       "[44112 rows x 17 columns]"
      ]
     },
     "execution_count": 88,
     "metadata": {},
     "output_type": "execute_result"
    }
   ],
   "source": [
    "all_verbs = pd.read_csv('./all_verbs_tree.csv').reset_index(drop = True)\n",
    "all_verbs"
   ]
  },
  {
   "cell_type": "code",
   "execution_count": 89,
   "metadata": {},
   "outputs": [],
   "source": [
    "import tensorflow as tf\n",
    "from keras.models import Sequential\n",
    "from keras.layers import Dense, LSTM"
   ]
  },
  {
   "cell_type": "code",
   "execution_count": 90,
   "metadata": {},
   "outputs": [
    {
     "data": {
      "text/plain": [
       "'amneˈgerijemɛamneˈgeriiamneˈgerijeamneˈgeriijɛamneˈgerijomɛamneˈgerijʌamneˈgerijendɛangerijeˈmɛangeriiˈangerijeˈangeriiˈjɛangerijoˈmɛangerijʌˈangerijeˈndɛaneˈgerijemɛaneˈgeriianeˈgerijeaneˈgeriijɛaneˈ'"
      ]
     },
     "execution_count": 90,
     "metadata": {},
     "output_type": "execute_result"
    }
   ],
   "source": [
    "all_characters = all_verbs['Generated Verb-SR'].sum() #concatinating all characters together\n",
    "all_characters[:200]"
   ]
  },
  {
   "cell_type": "code",
   "execution_count": 91,
   "metadata": {},
   "outputs": [
    {
     "data": {
      "text/plain": [
       "['*',\n",
       " ':',\n",
       " 'a',\n",
       " 'b',\n",
       " 'd',\n",
       " 'e',\n",
       " 'f',\n",
       " 'g',\n",
       " 'i',\n",
       " 'j',\n",
       " 'k',\n",
       " 'l',\n",
       " 'm',\n",
       " 'n',\n",
       " 'o',\n",
       " 'p',\n",
       " 'r',\n",
       " 's',\n",
       " 't',\n",
       " 'u',\n",
       " 'v',\n",
       " 'z',\n",
       " 'ø',\n",
       " 'ɛ',\n",
       " 'ɢ',\n",
       " 'ʃ',\n",
       " 'ʌ',\n",
       " 'ʒ',\n",
       " 'ˈ',\n",
       " '͡',\n",
       " 'χ']"
      ]
     },
     "execution_count": 91,
     "metadata": {},
     "output_type": "execute_result"
    }
   ],
   "source": [
    "all_characters = sorted(list(set([char for char in all_characters]))) #set for unique characters # list for making a list out of those characters\n",
    "all_characters"
   ]
  },
  {
   "cell_type": "code",
   "execution_count": 92,
   "metadata": {},
   "outputs": [
    {
     "data": {
      "text/plain": [
       "{'*': 1,\n",
       " ':': 2,\n",
       " 'a': 3,\n",
       " 'b': 4,\n",
       " 'd': 5,\n",
       " 'e': 6,\n",
       " 'f': 7,\n",
       " 'g': 8,\n",
       " 'i': 9,\n",
       " 'j': 10,\n",
       " 'k': 11,\n",
       " 'l': 12,\n",
       " 'm': 13,\n",
       " 'n': 14,\n",
       " 'o': 15,\n",
       " 'p': 16,\n",
       " 'r': 17,\n",
       " 's': 18,\n",
       " 't': 19,\n",
       " 'u': 20,\n",
       " 'v': 21,\n",
       " 'z': 22,\n",
       " 'ø': 23,\n",
       " 'ɛ': 24,\n",
       " 'ɢ': 25,\n",
       " 'ʃ': 26,\n",
       " 'ʌ': 27,\n",
       " 'ʒ': 28,\n",
       " 'ˈ': 29,\n",
       " '͡': 30,\n",
       " 'χ': 31}"
      ]
     },
     "execution_count": 92,
     "metadata": {},
     "output_type": "execute_result"
    }
   ],
   "source": [
    "char_index = {char: idx+1 for idx, char in enumerate(all_characters) } # input cha, gives you a no #inumerate: iterate a list, returns the element and its index\n",
    "index_char = {idx+1: char for idx, char in enumerate(all_characters)}\n",
    "char_index\n",
    " # plus one is to start from 1"
   ]
  },
  {
   "cell_type": "code",
   "execution_count": 93,
   "metadata": {},
   "outputs": [
    {
     "data": {
      "text/plain": [
       "{1: '*',\n",
       " 2: ':',\n",
       " 3: 'a',\n",
       " 4: 'b',\n",
       " 5: 'd',\n",
       " 6: 'e',\n",
       " 7: 'f',\n",
       " 8: 'g',\n",
       " 9: 'i',\n",
       " 10: 'j',\n",
       " 11: 'k',\n",
       " 12: 'l',\n",
       " 13: 'm',\n",
       " 14: 'n',\n",
       " 15: 'o',\n",
       " 16: 'p',\n",
       " 17: 'r',\n",
       " 18: 's',\n",
       " 19: 't',\n",
       " 20: 'u',\n",
       " 21: 'v',\n",
       " 22: 'z',\n",
       " 23: 'ø',\n",
       " 24: 'ɛ',\n",
       " 25: 'ɢ',\n",
       " 26: 'ʃ',\n",
       " 27: 'ʌ',\n",
       " 28: 'ʒ',\n",
       " 29: 'ˈ',\n",
       " 30: '͡',\n",
       " 31: 'χ'}"
      ]
     },
     "execution_count": 93,
     "metadata": {},
     "output_type": "execute_result"
    }
   ],
   "source": [
    "index_char"
   ]
  },
  {
   "cell_type": "code",
   "execution_count": 94,
   "metadata": {},
   "outputs": [],
   "source": [
    "# next is for each word, you need to produce the list that has the indexes of its chas"
   ]
  },
  {
   "cell_type": "code",
   "execution_count": 95,
   "metadata": {},
   "outputs": [
    {
     "name": "stdout",
     "output_type": "stream",
     "text": [
      "['amneˈgerijemɛ', 'amneˈgerii', 'amneˈgerije', 'amneˈgeriijɛ', 'amneˈgerijomɛ', 'amneˈgerijʌ', 'amneˈgerijendɛ', 'angerijeˈmɛ', 'angeriiˈ', 'angerijeˈ', 'angeriiˈjɛ', 'angerijoˈmɛ', 'angerijʌˈ', 'angerijeˈndɛ', 'aneˈgerijemɛ', 'aneˈgerii', 'aneˈgerije', 'aneˈgeriijɛ', 'aneˈgerijomɛ', 'aneˈgerijʌ', 'aneˈgerijendɛ', 'aˈgerijemɛ', 'aˈgerii', 'aˈgerije', 'aˈgeriijɛ', 'aˈgerijomɛ', 'aˈgerijʌ', 'aˈgerijendɛ', 'amneˈgerijɛstimɛ', 'amneˈgerijɛstiʃɛ', 'amneˈgerijast', 'amneˈgerijastɛ', 'amneˈgerijɛstimon', 'amneˈgerijɛstijon', 'amneˈgerijɛstindɛ', 'angerijɛˈstimɛ', 'angerijɛˈstiʃɛ', 'angerijaˈst', 'angerijaˈstɛ', 'angerijɛˈstimon', 'angerijɛˈstijon', 'angerijɛˈstindɛ', 'aneˈgerijɛstimɛ', 'aneˈgerijɛstiʃɛ', 'aneˈgerijast', 'aneˈgerijastɛ', 'aneˈgerijɛstimon', 'aneˈgerijɛstijon', 'aneˈgerijɛstindɛ', 'agerijɛˈstimɛ', 'agerijɛˈstiʃɛ', 'agerijaˈst', 'agerijaˈstɛ', 'agerijɛˈstimon', 'agerijɛˈstijon', 'agerijɛˈstindɛ', 'aneˈgerijɛstɛjmɛ', 'aneˈgerijɛstɛjʃɛ', 'aneˈgerijɛsti', 'aneˈgerijɛstijʌ', 'aneˈgerijɛstɛjmon', 'aneˈgerijɛstɛjon', 'aneˈgerijɛstindɛ', 'agerijɛstɛˈjmɛ', 'agerijɛstɛˈjʃɛ', 'agerijɛstiˈ', 'agerijɛstijʌˈ', 'agerijɛstɛˈjmon', 'agerijɛstɛˈjon', 'agerijɛstiˈndɛ', 'aneˈgerijɛstɛvimɛ', 'aneˈgerijɛstɛviʃɛ', 'aneˈgerijastave', 'aneˈgerijɛstɛvijɛ', 'aneˈgerijɛstɛvimon', 'aneˈgerijɛstɛvijon', 'aneˈgerijɛstɛvindɛ', 'agerijɛstɛˈvimɛ', 'agerijɛstɛˈviʃɛ', 'agerijastaˈve', 'agerijɛstɛˈvijɛ', 'agerijɛstɛˈvimon', 'agerijɛstɛˈvijon', 'agerijɛstɛˈvindɛ', 'aneˈgerijɛstimɛ', 'aneˈgerijɛstiʃɛ', 'aneˈgerijast', 'aneˈgerijastɛ', 'aneˈgerijɛstimon', 'aneˈgerijɛstijon', 'aneˈgerijɛstindɛ', 'agerijɛˈstimɛ', 'agerijɛˈstiʃɛ', 'agerijaˈst', 'agerijaˈstɛ', 'agerijɛˈstimon', 'agerijɛˈstijon', 'agerijɛˈstindɛ', 'aneˈgerijɛstɛbimɛ', 'aneˈgerijɛstɛbiʃɛ']\n"
     ]
    }
   ],
   "source": [
    "all_verbs_list = all_verbs['Generated Verb-SR'].tolist()\n",
    "print(all_verbs_list[:100])\n",
    "\n",
    "X = [[char_index[char] for char in verb] for verb in all_verbs_list] #predictor variable"
   ]
  },
  {
   "cell_type": "code",
   "execution_count": 96,
   "metadata": {},
   "outputs": [],
   "source": [
    "from tensorflow.keras.utils import pad_sequences\n"
   ]
  },
  {
   "cell_type": "code",
   "execution_count": 97,
   "metadata": {},
   "outputs": [
    {
     "data": {
      "text/plain": [
       "25"
      ]
     },
     "execution_count": 97,
     "metadata": {},
     "output_type": "execute_result"
    }
   ],
   "source": [
    "max_len = max(len(item) for item in X)\n",
    "max_len"
   ]
  },
  {
   "cell_type": "code",
   "execution_count": 98,
   "metadata": {},
   "outputs": [],
   "source": [
    "X = pad_sequences(X, max_len) #tags zeros to the front"
   ]
  },
  {
   "cell_type": "code",
   "execution_count": 99,
   "metadata": {},
   "outputs": [
    {
     "data": {
      "text/html": [
       "<div>\n",
       "<style scoped>\n",
       "    .dataframe tbody tr th:only-of-type {\n",
       "        vertical-align: middle;\n",
       "    }\n",
       "\n",
       "    .dataframe tbody tr th {\n",
       "        vertical-align: top;\n",
       "    }\n",
       "\n",
       "    .dataframe thead th {\n",
       "        text-align: right;\n",
       "    }\n",
       "</style>\n",
       "<table border=\"1\" class=\"dataframe\">\n",
       "  <thead>\n",
       "    <tr style=\"text-align: right;\">\n",
       "      <th></th>\n",
       "      <th>Tense</th>\n",
       "      <th>Modality</th>\n",
       "      <th>Aspect</th>\n",
       "      <th>Causation</th>\n",
       "      <th>Polarity</th>\n",
       "      <th>Person</th>\n",
       "      <th>Voice</th>\n",
       "      <th>Transitivity</th>\n",
       "    </tr>\n",
       "  </thead>\n",
       "  <tbody>\n",
       "    <tr>\n",
       "      <th>0</th>\n",
       "      <td>present</td>\n",
       "      <td>indicative</td>\n",
       "      <td>imperfective</td>\n",
       "      <td>non-causative</td>\n",
       "      <td>negative</td>\n",
       "      <td>1s</td>\n",
       "      <td>passive</td>\n",
       "      <td>intrans</td>\n",
       "    </tr>\n",
       "    <tr>\n",
       "      <th>1</th>\n",
       "      <td>present</td>\n",
       "      <td>indicative</td>\n",
       "      <td>imperfective</td>\n",
       "      <td>non-causative</td>\n",
       "      <td>negative</td>\n",
       "      <td>2s</td>\n",
       "      <td>passive</td>\n",
       "      <td>intrans</td>\n",
       "    </tr>\n",
       "    <tr>\n",
       "      <th>2</th>\n",
       "      <td>present</td>\n",
       "      <td>indicative</td>\n",
       "      <td>imperfective</td>\n",
       "      <td>non-causative</td>\n",
       "      <td>negative</td>\n",
       "      <td>3sm</td>\n",
       "      <td>passive</td>\n",
       "      <td>intrans</td>\n",
       "    </tr>\n",
       "    <tr>\n",
       "      <th>3</th>\n",
       "      <td>present</td>\n",
       "      <td>indicative</td>\n",
       "      <td>imperfective</td>\n",
       "      <td>non-causative</td>\n",
       "      <td>negative</td>\n",
       "      <td>3sf</td>\n",
       "      <td>passive</td>\n",
       "      <td>intrans</td>\n",
       "    </tr>\n",
       "    <tr>\n",
       "      <th>4</th>\n",
       "      <td>present</td>\n",
       "      <td>indicative</td>\n",
       "      <td>imperfective</td>\n",
       "      <td>non-causative</td>\n",
       "      <td>negative</td>\n",
       "      <td>1p</td>\n",
       "      <td>passive</td>\n",
       "      <td>intrans</td>\n",
       "    </tr>\n",
       "    <tr>\n",
       "      <th>...</th>\n",
       "      <td>...</td>\n",
       "      <td>...</td>\n",
       "      <td>...</td>\n",
       "      <td>...</td>\n",
       "      <td>...</td>\n",
       "      <td>...</td>\n",
       "      <td>...</td>\n",
       "      <td>...</td>\n",
       "    </tr>\n",
       "    <tr>\n",
       "      <th>44107</th>\n",
       "      <td>past</td>\n",
       "      <td>subjunctive</td>\n",
       "      <td>pluperfect</td>\n",
       "      <td>non-causative</td>\n",
       "      <td>affirmative</td>\n",
       "      <td>3sm</td>\n",
       "      <td>active</td>\n",
       "      <td>trans</td>\n",
       "    </tr>\n",
       "    <tr>\n",
       "      <th>44108</th>\n",
       "      <td>past</td>\n",
       "      <td>subjunctive</td>\n",
       "      <td>pluperfect</td>\n",
       "      <td>non-causative</td>\n",
       "      <td>affirmative</td>\n",
       "      <td>3sf</td>\n",
       "      <td>active</td>\n",
       "      <td>trans</td>\n",
       "    </tr>\n",
       "    <tr>\n",
       "      <th>44109</th>\n",
       "      <td>past</td>\n",
       "      <td>subjunctive</td>\n",
       "      <td>pluperfect</td>\n",
       "      <td>non-causative</td>\n",
       "      <td>affirmative</td>\n",
       "      <td>1p</td>\n",
       "      <td>active</td>\n",
       "      <td>trans</td>\n",
       "    </tr>\n",
       "    <tr>\n",
       "      <th>44110</th>\n",
       "      <td>past</td>\n",
       "      <td>subjunctive</td>\n",
       "      <td>pluperfect</td>\n",
       "      <td>non-causative</td>\n",
       "      <td>affirmative</td>\n",
       "      <td>2p</td>\n",
       "      <td>active</td>\n",
       "      <td>trans</td>\n",
       "    </tr>\n",
       "    <tr>\n",
       "      <th>44111</th>\n",
       "      <td>past</td>\n",
       "      <td>subjunctive</td>\n",
       "      <td>pluperfect</td>\n",
       "      <td>non-causative</td>\n",
       "      <td>affirmative</td>\n",
       "      <td>3p</td>\n",
       "      <td>active</td>\n",
       "      <td>trans</td>\n",
       "    </tr>\n",
       "  </tbody>\n",
       "</table>\n",
       "<p>44112 rows × 8 columns</p>\n",
       "</div>"
      ],
      "text/plain": [
       "         Tense     Modality        Aspect      Causation     Polarity Person  \\\n",
       "0      present   indicative  imperfective  non-causative     negative     1s   \n",
       "1      present   indicative  imperfective  non-causative     negative     2s   \n",
       "2      present   indicative  imperfective  non-causative     negative    3sm   \n",
       "3      present   indicative  imperfective  non-causative     negative    3sf   \n",
       "4      present   indicative  imperfective  non-causative     negative     1p   \n",
       "...        ...          ...           ...            ...          ...    ...   \n",
       "44107     past  subjunctive    pluperfect  non-causative  affirmative    3sm   \n",
       "44108     past  subjunctive    pluperfect  non-causative  affirmative    3sf   \n",
       "44109     past  subjunctive    pluperfect  non-causative  affirmative     1p   \n",
       "44110     past  subjunctive    pluperfect  non-causative  affirmative     2p   \n",
       "44111     past  subjunctive    pluperfect  non-causative  affirmative     3p   \n",
       "\n",
       "         Voice Transitivity  \n",
       "0      passive      intrans  \n",
       "1      passive      intrans  \n",
       "2      passive      intrans  \n",
       "3      passive      intrans  \n",
       "4      passive      intrans  \n",
       "...        ...          ...  \n",
       "44107   active        trans  \n",
       "44108   active        trans  \n",
       "44109   active        trans  \n",
       "44110   active        trans  \n",
       "44111   active        trans  \n",
       "\n",
       "[44112 rows x 8 columns]"
      ]
     },
     "execution_count": 99,
     "metadata": {},
     "output_type": "execute_result"
    }
   ],
   "source": [
    "features = ['Tense', 'Modality', 'Aspect', 'Causation', 'Polarity', 'Person', 'Voice', 'Transitivity']\n",
    "y = all_verbs[features]\n",
    "y"
   ]
  },
  {
   "cell_type": "code",
   "execution_count": 100,
   "metadata": {},
   "outputs": [],
   "source": [
    "X_train, X_test, y_train_pre_encoded, y_test_pre_encoded = train_test_split(X, y, test_size = 0.33, random_state = 1)"
   ]
  },
  {
   "cell_type": "code",
   "execution_count": 135,
   "metadata": {},
   "outputs": [
    {
     "name": "stdout",
     "output_type": "stream",
     "text": [
      "['intrans' 'trans']\n"
     ]
    }
   ],
   "source": [
    "feature = 'Transitivity'\n",
    "le = LabelEncoder()\n",
    "y_train = le.fit_transform(y_train_pre_encoded[feature]) #le.fit() and le.transform() together make le.fit_transform()\n",
    "y_test = le.transform(y_test_pre_encoded[feature])\n",
    "print(le.classes_)"
   ]
  },
  {
   "cell_type": "code",
   "execution_count": 136,
   "metadata": {},
   "outputs": [],
   "source": [
    "lstm_model = tf.keras.models.Sequential()\n",
    "\n",
    "lstm_model.add(tf.keras.layers.Embedding(input_dim = len(char_index)+1, output_dim = 32, mask_zero = True)) # True ignores zeros # all sequences needs to have the same length but zero willl be ignored\n",
    "lstm_model.add(tf.keras.layers.LSTM(32)) #can change later\n",
    "lstm_model.add(tf.keras.layers.Dense(len(le.classes_), activation = 'softmax')) #one output per category\n",
    "\n",
    "lstm_model.compile(optimizer = 'rmsprop', loss = 'sparse_categorical_crossentropy') #cat cross can have more than two target classes. Sparse : bc we are giving it an integer label"
   ]
  },
  {
   "cell_type": "code",
   "execution_count": 137,
   "metadata": {},
   "outputs": [
    {
     "name": "stdout",
     "output_type": "stream",
     "text": [
      "Epoch 1/10\n",
      "924/924 [==============================] - 20s 17ms/step - loss: 0.2753\n",
      "Epoch 2/10\n",
      "924/924 [==============================] - 16s 17ms/step - loss: 0.1899\n",
      "Epoch 3/10\n",
      "924/924 [==============================] - 15s 16ms/step - loss: 0.1513\n",
      "Epoch 4/10\n",
      "924/924 [==============================] - 15s 16ms/step - loss: 0.1177\n",
      "Epoch 5/10\n",
      "924/924 [==============================] - 14s 16ms/step - loss: 0.0952\n",
      "Epoch 6/10\n",
      "924/924 [==============================] - 15s 16ms/step - loss: 0.0796\n",
      "Epoch 7/10\n",
      "924/924 [==============================] - 15s 16ms/step - loss: 0.0663\n",
      "Epoch 8/10\n",
      "924/924 [==============================] - 15s 16ms/step - loss: 0.0529\n",
      "Epoch 9/10\n",
      "924/924 [==============================] - 15s 16ms/step - loss: 0.0431\n",
      "Epoch 10/10\n",
      "924/924 [==============================] - 15s 16ms/step - loss: 0.0354\n"
     ]
    },
    {
     "data": {
      "text/plain": [
       "<keras.callbacks.History at 0x7fe64b067f10>"
      ]
     },
     "execution_count": 137,
     "metadata": {},
     "output_type": "execute_result"
    }
   ],
   "source": [
    "lstm_model.fit(X_train, y_train, epochs = 10) # passes the df 5 times and train on them"
   ]
  },
  {
   "cell_type": "code",
   "execution_count": 138,
   "metadata": {},
   "outputs": [
    {
     "name": "stdout",
     "output_type": "stream",
     "text": [
      "455/455 [==============================] - 4s 4ms/step\n"
     ]
    }
   ],
   "source": [
    "predictions = lstm_model.predict(X_test) #predicted probability"
   ]
  },
  {
   "cell_type": "code",
   "execution_count": 139,
   "metadata": {},
   "outputs": [],
   "source": [
    "y_pred = np.argmax(predictions, axis = 1) # translates from probabilies to classes"
   ]
  },
  {
   "cell_type": "code",
   "execution_count": 140,
   "metadata": {},
   "outputs": [
    {
     "data": {
      "text/plain": [
       "0.986123514460397"
      ]
     },
     "execution_count": 140,
     "metadata": {},
     "output_type": "execute_result"
    }
   ],
   "source": [
    "accuracy_score(y_test, y_pred)"
   ]
  },
  {
   "cell_type": "code",
   "execution_count": 141,
   "metadata": {},
   "outputs": [
    {
     "data": {
      "text/plain": [
       "array([[7904,   60],\n",
       "       [ 142, 6451]])"
      ]
     },
     "execution_count": 141,
     "metadata": {},
     "output_type": "execute_result"
    }
   ],
   "source": [
    "confusion_matrix(y_test, y_pred)"
   ]
  },
  {
   "cell_type": "markdown",
   "metadata": {},
   "source": [
    "Aspect\n",
    "accuracy: 0.8698907741979803\n",
    "array([[3168,    9,    0,    0],\n",
    "       [  27, 5004,   59,    0],\n",
    "       [   4,  164, 1551, 1422],\n",
    "       [   0,    0,  209, 2940]])\n",
    "\n",
    "Modality \n",
    "Accuracy: 0.8762107577110668\n",
    "array([[ 195,    3,   52],\n",
    "       [   1, 6703, 1189],\n",
    "       [  26,  531, 5857]])\n",
    "\n",
    "\n",
    "Person\n",
    "Accuracy:0.9501270866249915\n",
    "\n",
    "array([[1999,    0,    0,    0,    0,    0,    0],\n",
    "       [   1, 2067,    0,    0,    0,    0,    0],\n",
    "       [   0,    0, 2126,    0,    0,    0,    0],\n",
    "       [   1,    0,    3, 2183,    0,    0,   13],\n",
    "       [   0,    0,    0,    0, 2112,    0,    0],\n",
    "       [   0,    0,    1,    0,    0, 1323,  698],\n",
    "       [   0,    0,    0,    6,    0,    3, 2021]])\n",
    "Causation\n",
    "Accuracy: 1\n",
    "array([[ 4488,     0],\n",
    "       [    0, 10069]])\n",
    "\n",
    "Tense\n",
    "Accuracy: 0.9986260905406333\n",
    "array([[11114,     2],\n",
    "       [   18,  3423]])\n",
    "\n",
    "\n",
    "Voice\n",
    "Accuracy: 0.9996565226351584\n",
    "array([[8235,    5],\n",
    "       [   0, 6317]])\n",
    "       \n",
    "Polarity\n",
    "Accuuracy:  0.998969567905475\n",
    "array([[7223,    9],\n",
    "       [   6, 7319]])\n",
    "\n",
    "Transitivity\n",
    "Accuracy:0.986123514460397\n",
    "array([[7904,   60],\n",
    "       [ 142, 6451]])\n",
    "       \n",
    "\n",
    "\n",
    "       \n",
    "\n"
   ]
  },
  {
   "cell_type": "code",
   "execution_count": null,
   "metadata": {},
   "outputs": [],
   "source": []
  },
  {
   "cell_type": "code",
   "execution_count": null,
   "metadata": {},
   "outputs": [],
   "source": []
  },
  {
   "cell_type": "code",
   "execution_count": null,
   "metadata": {},
   "outputs": [],
   "source": []
  },
  {
   "cell_type": "code",
   "execution_count": null,
   "metadata": {},
   "outputs": [],
   "source": []
  },
  {
   "cell_type": "code",
   "execution_count": null,
   "metadata": {},
   "outputs": [],
   "source": []
  },
  {
   "cell_type": "code",
   "execution_count": null,
   "metadata": {},
   "outputs": [],
   "source": []
  },
  {
   "cell_type": "code",
   "execution_count": null,
   "metadata": {},
   "outputs": [],
   "source": []
  },
  {
   "cell_type": "code",
   "execution_count": null,
   "metadata": {},
   "outputs": [],
   "source": []
  },
  {
   "cell_type": "code",
   "execution_count": null,
   "metadata": {},
   "outputs": [],
   "source": []
  },
  {
   "cell_type": "code",
   "execution_count": null,
   "metadata": {},
   "outputs": [],
   "source": []
  }
 ],
 "metadata": {
  "interpreter": {
   "hash": "aee8b7b246df8f9039afb4144a1f6fd8d2ca17a180786b69acc140d282b71a49"
  },
  "kernelspec": {
   "display_name": "Python 3.9.6 64-bit",
   "language": "python",
   "name": "python3"
  },
  "language_info": {
   "codemirror_mode": {
    "name": "ipython",
    "version": 3
   },
   "file_extension": ".py",
   "mimetype": "text/x-python",
   "name": "python",
   "nbconvert_exporter": "python",
   "pygments_lexer": "ipython3",
   "version": "3.9.6"
  },
  "orig_nbformat": 4
 },
 "nbformat": 4,
 "nbformat_minor": 2
}
